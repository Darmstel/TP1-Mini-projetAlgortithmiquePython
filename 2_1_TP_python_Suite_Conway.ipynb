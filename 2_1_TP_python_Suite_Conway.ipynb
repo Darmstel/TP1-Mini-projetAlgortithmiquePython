{
  "nbformat": 4,
  "nbformat_minor": 0,
  "metadata": {
    "colab": {
      "provenance": []
    },
    "kernelspec": {
      "name": "python3",
      "display_name": "Python 3"
    },
    "language_info": {
      "name": "python"
    }
  },
  "cells": [
    {
      "cell_type": "code",
      "execution_count": 4,
      "metadata": {
        "colab": {
          "base_uri": "https://localhost:8080/"
        },
        "id": "PzzhIMs8S52o",
        "outputId": "4b5c1d8a-b5ae-41e2-d781-12eef7d0dc5c"
      },
      "outputs": [
        {
          "output_type": "stream",
          "name": "stdout",
          "text": [
            "Il fait beau aujourd'hui! Je veux en profiter!\n",
            "il fait beau aujourd'hui! je veux en profiter!\n",
            "IL FAIT BEAU AUJOURD'HUI! JE VEUX EN PROFITER!\n",
            "8\n"
          ]
        }
      ],
      "source": [
        "#Exercice1:\n",
        "#1a. Créer une variable chaine avec la valeur donnée :\n",
        "\n",
        "chaine = \"Il fait beau aujourd'hui. Je veux en profiter.\"\n",
        "\n",
        "#1b. Remplacer les points par des points d'exclamation :\n",
        "\n",
        "chaine = chaine.replace(\".\", \"!\")\n",
        "print(chaine)  # Résultat : \"Il fait beau aujourd'hui ! Je veux en profiter !\"\n",
        "\n",
        "#1c. Mettre toute la chaîne en minuscule :\n",
        "\n",
        "print(chaine.lower())  # Résultat : \"il fait beau aujourd'hui ! je veux en profiter !\"\n",
        "#1d. Mettre toute la chaîne en majuscule :\n",
        "\n",
        "print(chaine.upper())  # Résultat : \"IL FAIT BEAU AUJOURD'HUI ! JE VEUX EN PROFITER !\"\n",
        "#1e. Trouver l’indice du caractère 'b' :\n",
        "\n",
        "index_b = chaine.find('b')\n",
        "print(index_b)  # Résultat : 8\n"
      ]
    },
    {
      "cell_type": "code",
      "source": [
        "#Exercice2:\n",
        "\n",
        "#Fonction premierMot qui renvoie le premier mot d’une chaîne :\n",
        "\n",
        "def premierMot(chaine):\n",
        "    return chaine.split()[0]\n",
        "\n",
        "# Exemple d'utilisation\n",
        "phrase = \"samedi soir, je vais au cinéma\"\n",
        "print(premierMot(phrase))  # Résultat : \"samedi\""
      ],
      "metadata": {
        "colab": {
          "base_uri": "https://localhost:8080/"
        },
        "id": "t4fS8yod7xlC",
        "outputId": "a460a9d1-6d27-46dc-f17e-9503f765ba74"
      },
      "execution_count": 5,
      "outputs": [
        {
          "output_type": "stream",
          "name": "stdout",
          "text": [
            "samedi\n"
          ]
        }
      ]
    },
    {
      "cell_type": "code",
      "source": [
        "#Exercice3:\n",
        "\n",
        "#Fonction majuscule_mot pour mettre en majuscules la première lettre de chaque mot :\n",
        "def majuscule_mot(chaine):\n",
        "    return ' '.join(mot.capitalize() for mot in chaine.split())\n",
        "\n",
        "# Exemple d'utilisation\n",
        "phrase = \"je mange du fromage\"\n",
        "print(majuscule_mot(phrase))  # Résultat : \"Je Mange Du Fromage\""
      ],
      "metadata": {
        "colab": {
          "base_uri": "https://localhost:8080/"
        },
        "id": "enZlUiEC8AzB",
        "outputId": "b955ee0c-a401-415c-a6c3-f948fc646b9d"
      },
      "execution_count": 6,
      "outputs": [
        {
          "output_type": "stream",
          "name": "stdout",
          "text": [
            "Je Mange Du Fromage\n"
          ]
        }
      ]
    },
    {
      "cell_type": "code",
      "source": [
        "#Exercice4:\n",
        "\n",
        "#Programme pour retourner les mots d’une phrase :\n",
        "def retourner_phrase(chaine):\n",
        "    return ' '.join(chaine.split()[::-1])\n",
        "\n",
        "# Exemple d'utilisation\n",
        "phrase = \"J’en suis tout retourné\"\n",
        "print(retourner_phrase(phrase))  # Résultat : \"retourné tout suis J’en\""
      ],
      "metadata": {
        "colab": {
          "base_uri": "https://localhost:8080/"
        },
        "id": "7NWM-9G08Q-u",
        "outputId": "525a6d09-9b15-4511-f717-09453b7ca71e"
      },
      "execution_count": 7,
      "outputs": [
        {
          "output_type": "stream",
          "name": "stdout",
          "text": [
            "retourné tout suis J’en\n"
          ]
        }
      ]
    },
    {
      "cell_type": "code",
      "source": [
        "#Exercice5:\n",
        "#En tou cas j'ai vu les oiseaux volés j'aurais besoins de votre aide"
      ],
      "metadata": {
        "id": "BQ0pp21V8hXr"
      },
      "execution_count": null,
      "outputs": []
    },
    {
      "cell_type": "markdown",
      "source": [],
      "metadata": {
        "id": "i1VvkmHN68P3"
      }
    },
    {
      "cell_type": "code",
      "source": [],
      "metadata": {
        "id": "9XGE8pkW9pdC"
      },
      "execution_count": null,
      "outputs": []
    }
  ]
}